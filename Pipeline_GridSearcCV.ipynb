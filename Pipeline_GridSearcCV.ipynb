{
  "nbformat": 4,
  "nbformat_minor": 0,
  "metadata": {
    "colab": {
      "provenance": []
    },
    "kernelspec": {
      "name": "python3",
      "display_name": "Python 3"
    },
    "language_info": {
      "name": "python"
    }
  },
  "cells": [
    {
      "cell_type": "markdown",
      "source": [
        "## Пайплан GridSearchCV\n",
        "Основа блокнота взята с [курса по ML](https://stepik.org/lesson/819465/step/1?unit=822853) от МФТИ на Stepik"
      ],
      "metadata": {
        "id": "QsANys-xmq9m"
      }
    },
    {
      "cell_type": "code",
      "metadata": {
        "id": "Ozcx5mVOKxZB"
      },
      "source": [
        "import pandas as pd\n",
        "import numpy as np\n",
        "from sklearn.model_selection import train_test_split\n",
        "from sklearn.neighbors import KNeighborsClassifier\n",
        "from sklearn.metrics import accuracy_score\n",
        "from sklearn.model_selection import GridSearchCV"
      ],
      "execution_count": null,
      "outputs": []
    },
    {
      "cell_type": "markdown",
      "metadata": {
        "id": "Ry4bMKaUjHJj"
      },
      "source": [
        "Сcылка на датасет (лежит в папке с материалами): https://drive.google.com/file/d/1T9jXx2qBUMw03BsB2IdZpThDDfKKmrSK/view?usp=sharing"
      ]
    },
    {
      "cell_type": "code",
      "source": [
        "from google.colab import drive\n",
        "drive.mount('/content/drive')"
      ],
      "metadata": {
        "id": "kz4SS-Gq_dmK",
        "outputId": "fcef010c-87ca-4c62-c205-28aa7167606b",
        "colab": {
          "base_uri": "https://localhost:8080/"
        }
      },
      "execution_count": null,
      "outputs": [
        {
          "output_type": "stream",
          "name": "stdout",
          "text": [
            "Mounted at /content/drive\n"
          ]
        }
      ]
    },
    {
      "cell_type": "code",
      "metadata": {
        "id": "rvPrVRvK25pc"
      },
      "source": [
        "all_data = pd.read_csv('/content/drive/MyDrive/CSV_for_education/forest_dataset.csv')"
      ],
      "execution_count": null,
      "outputs": []
    },
    {
      "cell_type": "markdown",
      "metadata": {
        "id": "itCWxHEY25pg"
      },
      "source": [
        "Выделим значения метки класса в переменную `labels`, признаковые описания --- в переменную `feature_matrix`. Так как данные числовые и не имеют пропусков, переведем их в `numpy`-формат с помощью метода `.values`."
      ]
    },
    {
      "cell_type": "code",
      "metadata": {
        "id": "f_YIUOuV25ph"
      },
      "source": [
        "labels = all_data[all_data.columns[-1]].values\n",
        "feature_matrix = all_data[all_data.columns[:-1]].values"
      ],
      "execution_count": null,
      "outputs": []
    },
    {
      "cell_type": "code",
      "metadata": {
        "id": "YJN0jFARKxZX"
      },
      "source": [
        "train_feature_matrix, test_feature_matrix, train_labels, test_labels = train_test_split(\n",
        "    feature_matrix, labels, test_size=0.2, random_state=42)"
      ],
      "execution_count": null,
      "outputs": []
    },
    {
      "cell_type": "markdown",
      "metadata": {
        "id": "uFTIaPdrKxZl"
      },
      "source": [
        "Подберём параметры нашей модели"
      ]
    },
    {
      "cell_type": "markdown",
      "metadata": {
        "id": "8WzoRJZd25qF"
      },
      "source": [
        "* Переберите по сетке от `1` до `10` параметр числа соседей\n",
        "\n",
        "* Также вы попробуйте использоввать различные метрики: `['manhattan', 'euclidean']`\n",
        "\n",
        "* Попробуйте использовать различные стратегии вычисления весов: `[‘uniform’, ‘distance’]`"
      ]
    },
    {
      "cell_type": "code",
      "metadata": {
        "id": "4lMSy-6f25qG",
        "scrolled": true,
        "outputId": "40dd0907-59a8-4af9-d4cc-4cdf1cf40a2d",
        "colab": {
          "base_uri": "https://localhost:8080/",
          "height": 116
        }
      },
      "source": [
        "clf = KNeighborsClassifier()\n",
        "\n",
        "params = {'n_neighbors': np.arange(1, 11),\n",
        "          'weights': ['uniform', 'distance'],\n",
        "          'metric': ['manhattan', 'euclidean']}\n",
        "\n",
        "clf_grid = GridSearchCV(clf, params, cv=5, scoring='accuracy', n_jobs=-1)\n",
        "# Теперь обучение. Ваш код здесь\n",
        "clf_grid.fit(train_feature_matrix, train_labels)"
      ],
      "execution_count": null,
      "outputs": [
        {
          "output_type": "execute_result",
          "data": {
            "text/plain": [
              "GridSearchCV(cv=5, estimator=KNeighborsClassifier(), n_jobs=-1,\n",
              "             param_grid={'metric': ['manhattan', 'euclidean'],\n",
              "                         'n_neighbors': array([ 1,  2,  3,  4,  5,  6,  7,  8,  9, 10]),\n",
              "                         'weights': ['uniform', 'distance']},\n",
              "             scoring='accuracy')"
            ],
            "text/html": [
              "<style>#sk-container-id-1 {color: black;background-color: white;}#sk-container-id-1 pre{padding: 0;}#sk-container-id-1 div.sk-toggleable {background-color: white;}#sk-container-id-1 label.sk-toggleable__label {cursor: pointer;display: block;width: 100%;margin-bottom: 0;padding: 0.3em;box-sizing: border-box;text-align: center;}#sk-container-id-1 label.sk-toggleable__label-arrow:before {content: \"▸\";float: left;margin-right: 0.25em;color: #696969;}#sk-container-id-1 label.sk-toggleable__label-arrow:hover:before {color: black;}#sk-container-id-1 div.sk-estimator:hover label.sk-toggleable__label-arrow:before {color: black;}#sk-container-id-1 div.sk-toggleable__content {max-height: 0;max-width: 0;overflow: hidden;text-align: left;background-color: #f0f8ff;}#sk-container-id-1 div.sk-toggleable__content pre {margin: 0.2em;color: black;border-radius: 0.25em;background-color: #f0f8ff;}#sk-container-id-1 input.sk-toggleable__control:checked~div.sk-toggleable__content {max-height: 200px;max-width: 100%;overflow: auto;}#sk-container-id-1 input.sk-toggleable__control:checked~label.sk-toggleable__label-arrow:before {content: \"▾\";}#sk-container-id-1 div.sk-estimator input.sk-toggleable__control:checked~label.sk-toggleable__label {background-color: #d4ebff;}#sk-container-id-1 div.sk-label input.sk-toggleable__control:checked~label.sk-toggleable__label {background-color: #d4ebff;}#sk-container-id-1 input.sk-hidden--visually {border: 0;clip: rect(1px 1px 1px 1px);clip: rect(1px, 1px, 1px, 1px);height: 1px;margin: -1px;overflow: hidden;padding: 0;position: absolute;width: 1px;}#sk-container-id-1 div.sk-estimator {font-family: monospace;background-color: #f0f8ff;border: 1px dotted black;border-radius: 0.25em;box-sizing: border-box;margin-bottom: 0.5em;}#sk-container-id-1 div.sk-estimator:hover {background-color: #d4ebff;}#sk-container-id-1 div.sk-parallel-item::after {content: \"\";width: 100%;border-bottom: 1px solid gray;flex-grow: 1;}#sk-container-id-1 div.sk-label:hover label.sk-toggleable__label {background-color: #d4ebff;}#sk-container-id-1 div.sk-serial::before {content: \"\";position: absolute;border-left: 1px solid gray;box-sizing: border-box;top: 0;bottom: 0;left: 50%;z-index: 0;}#sk-container-id-1 div.sk-serial {display: flex;flex-direction: column;align-items: center;background-color: white;padding-right: 0.2em;padding-left: 0.2em;position: relative;}#sk-container-id-1 div.sk-item {position: relative;z-index: 1;}#sk-container-id-1 div.sk-parallel {display: flex;align-items: stretch;justify-content: center;background-color: white;position: relative;}#sk-container-id-1 div.sk-item::before, #sk-container-id-1 div.sk-parallel-item::before {content: \"\";position: absolute;border-left: 1px solid gray;box-sizing: border-box;top: 0;bottom: 0;left: 50%;z-index: -1;}#sk-container-id-1 div.sk-parallel-item {display: flex;flex-direction: column;z-index: 1;position: relative;background-color: white;}#sk-container-id-1 div.sk-parallel-item:first-child::after {align-self: flex-end;width: 50%;}#sk-container-id-1 div.sk-parallel-item:last-child::after {align-self: flex-start;width: 50%;}#sk-container-id-1 div.sk-parallel-item:only-child::after {width: 0;}#sk-container-id-1 div.sk-dashed-wrapped {border: 1px dashed gray;margin: 0 0.4em 0.5em 0.4em;box-sizing: border-box;padding-bottom: 0.4em;background-color: white;}#sk-container-id-1 div.sk-label label {font-family: monospace;font-weight: bold;display: inline-block;line-height: 1.2em;}#sk-container-id-1 div.sk-label-container {text-align: center;}#sk-container-id-1 div.sk-container {/* jupyter's `normalize.less` sets `[hidden] { display: none; }` but bootstrap.min.css set `[hidden] { display: none !important; }` so we also need the `!important` here to be able to override the default hidden behavior on the sphinx rendered scikit-learn.org. See: https://github.com/scikit-learn/scikit-learn/issues/21755 */display: inline-block !important;position: relative;}#sk-container-id-1 div.sk-text-repr-fallback {display: none;}</style><div id=\"sk-container-id-1\" class=\"sk-top-container\"><div class=\"sk-text-repr-fallback\"><pre>GridSearchCV(cv=5, estimator=KNeighborsClassifier(), n_jobs=-1,\n",
              "             param_grid={&#x27;metric&#x27;: [&#x27;manhattan&#x27;, &#x27;euclidean&#x27;],\n",
              "                         &#x27;n_neighbors&#x27;: array([ 1,  2,  3,  4,  5,  6,  7,  8,  9, 10]),\n",
              "                         &#x27;weights&#x27;: [&#x27;uniform&#x27;, &#x27;distance&#x27;]},\n",
              "             scoring=&#x27;accuracy&#x27;)</pre><b>In a Jupyter environment, please rerun this cell to show the HTML representation or trust the notebook. <br />On GitHub, the HTML representation is unable to render, please try loading this page with nbviewer.org.</b></div><div class=\"sk-container\" hidden><div class=\"sk-item sk-dashed-wrapped\"><div class=\"sk-label-container\"><div class=\"sk-label sk-toggleable\"><input class=\"sk-toggleable__control sk-hidden--visually\" id=\"sk-estimator-id-1\" type=\"checkbox\" ><label for=\"sk-estimator-id-1\" class=\"sk-toggleable__label sk-toggleable__label-arrow\">GridSearchCV</label><div class=\"sk-toggleable__content\"><pre>GridSearchCV(cv=5, estimator=KNeighborsClassifier(), n_jobs=-1,\n",
              "             param_grid={&#x27;metric&#x27;: [&#x27;manhattan&#x27;, &#x27;euclidean&#x27;],\n",
              "                         &#x27;n_neighbors&#x27;: array([ 1,  2,  3,  4,  5,  6,  7,  8,  9, 10]),\n",
              "                         &#x27;weights&#x27;: [&#x27;uniform&#x27;, &#x27;distance&#x27;]},\n",
              "             scoring=&#x27;accuracy&#x27;)</pre></div></div></div><div class=\"sk-parallel\"><div class=\"sk-parallel-item\"><div class=\"sk-item\"><div class=\"sk-label-container\"><div class=\"sk-label sk-toggleable\"><input class=\"sk-toggleable__control sk-hidden--visually\" id=\"sk-estimator-id-2\" type=\"checkbox\" ><label for=\"sk-estimator-id-2\" class=\"sk-toggleable__label sk-toggleable__label-arrow\">estimator: KNeighborsClassifier</label><div class=\"sk-toggleable__content\"><pre>KNeighborsClassifier()</pre></div></div></div><div class=\"sk-serial\"><div class=\"sk-item\"><div class=\"sk-estimator sk-toggleable\"><input class=\"sk-toggleable__control sk-hidden--visually\" id=\"sk-estimator-id-3\" type=\"checkbox\" ><label for=\"sk-estimator-id-3\" class=\"sk-toggleable__label sk-toggleable__label-arrow\">KNeighborsClassifier</label><div class=\"sk-toggleable__content\"><pre>KNeighborsClassifier()</pre></div></div></div></div></div></div></div></div></div></div>"
            ]
          },
          "metadata": {},
          "execution_count": 12
        }
      ]
    },
    {
      "cell_type": "markdown",
      "metadata": {
        "id": "SO7E6G8jKxZp"
      },
      "source": [
        "Выведем лучшие параметры"
      ]
    },
    {
      "cell_type": "code",
      "metadata": {
        "id": "md48pHrMKxZq",
        "outputId": "56875287-85ac-41d0-965b-c819d7ee8897",
        "colab": {
          "base_uri": "https://localhost:8080/"
        }
      },
      "source": [
        "clf_grid.best_params_"
      ],
      "execution_count": null,
      "outputs": [
        {
          "output_type": "execute_result",
          "data": {
            "text/plain": [
              "{'metric': 'manhattan', 'n_neighbors': 4, 'weights': 'distance'}"
            ]
          },
          "metadata": {},
          "execution_count": 13
        }
      ]
    },
    {
      "cell_type": "markdown",
      "metadata": {
        "id": "aBmiDbvV25qI"
      },
      "source": [
        "Используя найденное оптимальное число соседей, вычислите вероятности принадлежности к классам для тестовой выборки (`.predict_proba`)."
      ]
    },
    {
      "cell_type": "code",
      "metadata": {
        "id": "ig_vS8O925qI"
      },
      "source": [
        "optimal_clf = KNeighborsClassifier(metric = 'manhattan', n_neighbors = 4, weights = 'distance')\n",
        "# Обучение. Ваш код здесь\n",
        "optimal_clf.fit(train_feature_matrix, train_labels)\n",
        "pred_prob = optimal_clf.predict_proba(test_feature_matrix)"
      ],
      "execution_count": null,
      "outputs": []
    },
    {
      "cell_type": "code",
      "metadata": {
        "id": "2kkapT38KxZz",
        "outputId": "21b7620a-d69c-4f7c-f5ef-fc7c377ad730",
        "colab": {
          "base_uri": "https://localhost:8080/",
          "height": 368
        }
      },
      "source": [
        "import matplotlib.pyplot as plt\n",
        "%matplotlib inline\n",
        "import numpy as np\n",
        "\n",
        "unique, freq = np.unique(test_labels, return_counts=True)\n",
        "freq = list(map(lambda x: x / len(test_labels),freq))\n",
        "\n",
        "pred_freq = pred_prob.mean(axis=0)\n",
        "plt.figure(figsize=(6, 4))\n",
        "plt.bar(range(1, 8), pred_freq, width=0.4, align=\"edge\", label='prediction')\n",
        "plt.bar(range(1, 8), freq, width=-0.4, align=\"edge\", label='real')\n",
        "plt.ylim(0, 0.54)\n",
        "plt.legend()\n",
        "plt.show()"
      ],
      "execution_count": null,
      "outputs": [
        {
          "output_type": "display_data",
          "data": {
            "text/plain": [
              "<Figure size 600x400 with 1 Axes>"
            ],
            "image/png": "[encoded data removed]"
          },
          "metadata": {}
        }
      ]
    },
    {
      "cell_type": "code",
      "source": [
        "pred_freq"
      ],
      "metadata": {
        "id": "KcY6acbMMjyf",
        "outputId": "d2e61625-1c83-4fca-87b7-6cefbfc33440",
        "colab": {
          "base_uri": "https://localhost:8080/"
        }
      },
      "execution_count": null,
      "outputs": [
        {
          "output_type": "execute_result",
          "data": {
            "text/plain": [
              "array([0.38149113, 0.48914852, 0.05281153, 0.00581434, 0.01521326,\n",
              "       0.02623053, 0.02929069])"
            ]
          },
          "metadata": {},
          "execution_count": 18
        }
      ]
    }
  ]
}